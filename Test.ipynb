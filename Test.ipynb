{
 "cells": [
  {
   "cell_type": "code",
   "execution_count": 1,
   "id": "f18565c0-9d42-4a56-a5e5-f398442fc91c",
   "metadata": {},
   "outputs": [
    {
     "name": "stdout",
     "output_type": "stream",
     "text": [
      "The Zen of Python, by Tim Peters\n",
      "\n",
      "Beautiful is better than ugly.\n",
      "Explicit is better than implicit.\n",
      "Simple is better than complex.\n",
      "Complex is better than complicated.\n",
      "Flat is better than nested.\n",
      "Sparse is better than dense.\n",
      "Readability counts.\n",
      "Special cases aren't special enough to break the rules.\n",
      "Although practicality beats purity.\n",
      "Errors should never pass silently.\n",
      "Unless explicitly silenced.\n",
      "In the face of ambiguity, refuse the temptation to guess.\n",
      "There should be one-- and preferably only one --obvious way to do it.\n",
      "Although that way may not be obvious at first unless you're Dutch.\n",
      "Now is better than never.\n",
      "Although never is often better than *right* now.\n",
      "If the implementation is hard to explain, it's a bad idea.\n",
      "If the implementation is easy to explain, it may be a good idea.\n",
      "Namespaces are one honking great idea -- let's do more of those!\n"
     ]
    }
   ],
   "source": [
    "import this"
   ]
  },
  {
   "cell_type": "code",
   "execution_count": 8,
   "id": "9069c8f7-e72c-4673-9b14-5ce15ce132cc",
   "metadata": {},
   "outputs": [],
   "source": [
    "from collections import Counter\n",
    "from string import punctuation"
   ]
  },
  {
   "cell_type": "code",
   "execution_count": 20,
   "id": "2447e2e9-65bc-4d65-9814-52090337179a",
   "metadata": {},
   "outputs": [],
   "source": [
    "def load_text(input_file):\n",
    "        \"\"\"Load text from a text file and return as a string.\"\"\"\n",
    "        with open(input_file, \"r\") as file:\n",
    "            text = file.read()\n",
    "        return text\n",
    "\n",
    "def clean_text(text):\n",
    "        \"\"\"Lowercase and remove punctuation from a string.\"\"\"\n",
    "        text = text.lower()\n",
    "        for p in punctuation:\n",
    "            text = text.replace(p, \"\")\n",
    "        return text\n",
    "\n",
    "def count_words(input_file):\n",
    "        \"\"\"Count unique words in a string.\"\"\"\n",
    "        text = load_text(input_file)\n",
    "        text = clean_text(text)\n",
    "        words = text.split()\n",
    "        return Counter(words)"
   ]
  },
  {
   "cell_type": "code",
   "execution_count": 21,
   "id": "5e10fdf5-66ad-47ca-98bb-646e5b34b3b7",
   "metadata": {},
   "outputs": [
    {
     "data": {
      "text/plain": [
       "Counter({'is': 10,\n",
       "         'better': 8,\n",
       "         'than': 8,\n",
       "         'the': 6,\n",
       "         'to': 5,\n",
       "         'of': 3,\n",
       "         'although': 3,\n",
       "         'never': 3,\n",
       "         'be': 3,\n",
       "         'one': 3,\n",
       "         'idea': 3,\n",
       "         'complex': 2,\n",
       "         'special': 2,\n",
       "         'should': 2,\n",
       "         'unless': 2,\n",
       "         'obvious': 2,\n",
       "         'way': 2,\n",
       "         'do': 2,\n",
       "         'it': 2,\n",
       "         'may': 2,\n",
       "         'now': 2,\n",
       "         'if': 2,\n",
       "         'implementation': 2,\n",
       "         'explain': 2,\n",
       "         'a': 2,\n",
       "         'zen': 1,\n",
       "         'python': 1,\n",
       "         'by': 1,\n",
       "         'tim': 1,\n",
       "         'peters': 1,\n",
       "         'beautiful': 1,\n",
       "         'ugly': 1,\n",
       "         'explicit': 1,\n",
       "         'implicit': 1,\n",
       "         'simple': 1,\n",
       "         'complicated': 1,\n",
       "         'flat': 1,\n",
       "         'nested': 1,\n",
       "         'sparse': 1,\n",
       "         'dense': 1,\n",
       "         'readability': 1,\n",
       "         'counts': 1,\n",
       "         'cases': 1,\n",
       "         'arent': 1,\n",
       "         'enough': 1,\n",
       "         'break': 1,\n",
       "         'rules': 1,\n",
       "         'practicality': 1,\n",
       "         'beats': 1,\n",
       "         'purity': 1,\n",
       "         'errors': 1,\n",
       "         'pass': 1,\n",
       "         'silently': 1,\n",
       "         'explicitly': 1,\n",
       "         'silenced': 1,\n",
       "         'in': 1,\n",
       "         'face': 1,\n",
       "         'ambiguity': 1,\n",
       "         'refuse': 1,\n",
       "         'temptation': 1,\n",
       "         'guess': 1,\n",
       "         'there': 1,\n",
       "         'and': 1,\n",
       "         'preferably': 1,\n",
       "         'only': 1,\n",
       "         'that': 1,\n",
       "         'not': 1,\n",
       "         'at': 1,\n",
       "         'first': 1,\n",
       "         'youre': 1,\n",
       "         'dutch': 1,\n",
       "         'often': 1,\n",
       "         'right': 1,\n",
       "         'hard': 1,\n",
       "         'its': 1,\n",
       "         'bad': 1,\n",
       "         'easy': 1,\n",
       "         'good': 1,\n",
       "         'namespaces': 1,\n",
       "         'are': 1,\n",
       "         'honking': 1,\n",
       "         'great': 1,\n",
       "         'lets': 1,\n",
       "         'more': 1,\n",
       "         'those': 1})"
      ]
     },
     "execution_count": 21,
     "metadata": {},
     "output_type": "execute_result"
    }
   ],
   "source": [
    "count_words(\"zen.txt\")"
   ]
  },
  {
   "cell_type": "code",
   "execution_count": null,
   "id": "788cb65e-b16b-44c2-b972-79d3d8c07389",
   "metadata": {},
   "outputs": [],
   "source": []
  }
 ],
 "metadata": {
  "kernelspec": {
   "display_name": "Python [conda env:573]",
   "language": "python",
   "name": "conda-env-573-py"
  },
  "language_info": {
   "codemirror_mode": {
    "name": "ipython",
    "version": 3
   },
   "file_extension": ".py",
   "mimetype": "text/x-python",
   "name": "python",
   "nbconvert_exporter": "python",
   "pygments_lexer": "ipython3",
   "version": "3.12.7"
  }
 },
 "nbformat": 4,
 "nbformat_minor": 5
}
